{
 "cells": [
  {
   "cell_type": "code",
   "execution_count": null,
   "metadata": {},
   "outputs": [],
   "source": [
    "def predict(model, input_text, tokenizer, max_len=128):\n",
    "    \"\"\"\n",
    "    Makes predictions using the trained model.\n",
    "    \"\"\"\n",
    "    # Tokenize input text\n",
    "    encoded_input = tokenizer(\n",
    "        input_text, \n",
    "        max_length=max_len, \n",
    "        truncation=True, \n",
    "        padding='max_length', \n",
    "        return_tensors='tf'\n",
    "    )\n",
    "    input_ids = encoded_input['input_ids']\n",
    "    attention_mask = encoded_input['attention_mask']\n",
    "\n",
    "    # Make predictions\n",
    "    sentiment_pred, rank_pred = model.predict([input_ids, attention_mask])\n",
    "    return sentiment_pred, rank_pred"
   ]
  }
 ],
 "metadata": {
  "kaggle": {
   "accelerator": "none",
   "dataSources": [
    {
     "isSourceIdPinned": true,
     "modelId": 264116,
     "modelInstanceId": 242487,
     "sourceId": 282989,
     "sourceType": "modelInstanceVersion"
    }
   ],
   "dockerImageVersionId": 30918,
   "isGpuEnabled": false,
   "isInternetEnabled": true,
   "language": "python",
   "sourceType": "notebook"
  },
  "kernelspec": {
   "display_name": "myenv",
   "language": "python",
   "name": "python3"
  },
  "language_info": {
   "codemirror_mode": {
    "name": "ipython",
    "version": 3
   },
   "file_extension": ".py",
   "mimetype": "text/x-python",
   "name": "python",
   "nbconvert_exporter": "python",
   "pygments_lexer": "ipython3",
   "version": "3.8.20"
  }
 },
 "nbformat": 4,
 "nbformat_minor": 4
}
