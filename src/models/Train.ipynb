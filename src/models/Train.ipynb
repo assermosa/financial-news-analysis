{
 "cells": [
  {
   "cell_type": "markdown",
   "metadata": {},
   "source": [
    "### Fine-Tune BERT Model\n",
    "Fine-tune the pre-trained BERT model on the news dataset."
   ]
  },
  {
   "cell_type": "code",
   "execution_count": null,
   "metadata": {},
   "outputs": [],
   "source": [
    "import tensorflow as tf\n",
    "from transformers import TFBertModel\n",
    "from sklearn.model_selection import train_test_split\n",
    "\n",
    "def build_model():\n",
    "    \"\"\"\n",
    "    Builds the multi-task BERT model for sentiment analysis and ranking.\n",
    "    \"\"\"\n",
    "    # Load pre-trained BERT model\n",
    "    bert_model = TFBertModel.from_pretrained('bert-base-uncased')\n",
    "\n",
    "    # Define inputs\n",
    "    input_ids = tf.keras.Input(shape=(128,), dtype='int32')\n",
    "    attention_mask = tf.keras.Input(shape=(128,), dtype='int32')\n",
    "\n",
    "    # BERT output\n",
    "    bert_output = bert_model(input_ids, attention_mask=attention_mask)[1]  # Pooled output\n",
    "\n",
    "    # Shared layers\n",
    "    dense_1 = tf.keras.layers.Dense(64, activation=\"relu\")(bert_output)\n",
    "    dropout = tf.keras.layers.Dropout(0.2)(dense_1)\n",
    "\n",
    "    # Task 1: Sentiment Analysis\n",
    "    sentiment_output = tf.keras.layers.Dense(1, activation=\"sigmoid\", name=\"sentiment_output\")(dropout)\n",
    "\n",
    "    # Task 2: Ranking Prediction\n",
    "    rank_output = tf.keras.layers.Dense(1, activation=\"linear\", name=\"rank_output\")(dropout)\n",
    "\n",
    "    # Define the model\n",
    "    model = tf.keras.Model(inputs=[input_ids, attention_mask], outputs=[sentiment_output, rank_output])\n",
    "\n",
    "    # Compile the model\n",
    "    model.compile(\n",
    "        optimizer=tf.keras.optimizers.AdamW(learning_rate=2e-5),\n",
    "        loss={\"sentiment_output\": \"binary_crossentropy\", \"rank_output\": \"mse\"},\n",
    "        metrics={\"sentiment_output\": \"accuracy\", \"rank_output\": \"mae\"}\n",
    "    )\n",
    "\n",
    "    return model"
   ]
  },
  {
   "cell_type": "code",
   "execution_count": null,
   "metadata": {},
   "outputs": [],
   "source": []
  }
 ],
 "metadata": {
  "kaggle": {
   "accelerator": "gpu",
   "dataSources": [
    {
     "datasetId": 5490281,
     "sourceId": 9097274,
     "sourceType": "datasetVersion"
    }
   ],
   "isGpuEnabled": true,
   "isInternetEnabled": true,
   "language": "python",
   "sourceType": "notebook"
  },
  "kernelspec": {
   "display_name": "myenv",
   "language": "python",
   "name": "python3"
  },
  "language_info": {
   "codemirror_mode": {
    "name": "ipython",
    "version": 3
   },
   "file_extension": ".py",
   "mimetype": "text/x-python",
   "name": "python",
   "nbconvert_exporter": "python",
   "pygments_lexer": "ipython3",
   "version": "3.8.20"
  }
 },
 "nbformat": 4,
 "nbformat_minor": 4
}
