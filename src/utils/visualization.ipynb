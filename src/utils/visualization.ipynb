{
 "cells": [
  {
   "cell_type": "code",
   "execution_count": null,
   "metadata": {},
   "outputs": [],
   "source": [
    "import matplotlib.pyplot as plt\n",
    "import seaborn as sns\n",
    "from wordcloud import WordCloud\n",
    "\n",
    "def plot_sentiment_distribution(df, column=\"rank_scaled\"):\n",
    "    \"\"\"\n",
    "    Plots the distribution of sentiment scores.\n",
    "    \"\"\"\n",
    "    sns.countplot(x=df[column], palette=\"viridis\")\n",
    "    plt.title(\"Sentiment Distribution\")\n",
    "    plt.show()\n",
    "\n",
    "def generate_wordcloud(text, sentiment):\n",
    "    \"\"\"\n",
    "    Generates and displays a word cloud for the given text.\n",
    "    \"\"\"\n",
    "    wordcloud = WordCloud(\n",
    "        width=800, \n",
    "        height=400, \n",
    "        background_color='white', \n",
    "        stopwords=STOPWORDS\n",
    "    ).generate(text)\n",
    "    \n",
    "    plt.figure(figsize=(10, 5))\n",
    "    plt.imshow(wordcloud, interpolation='bilinear')\n",
    "    plt.axis(\"off\")\n",
    "    plt.title(f\"Word Cloud for {sentiment.capitalize()} Sentiment\")\n",
    "    plt.show()"
   ]
  }
 ],
 "metadata": {
  "kaggle": {
   "accelerator": "gpu",
   "dataSources": [
    {
     "datasetId": 5490281,
     "sourceId": 9097274,
     "sourceType": "datasetVersion"
    }
   ],
   "isGpuEnabled": true,
   "isInternetEnabled": true,
   "language": "python",
   "sourceType": "notebook"
  },
  "kernelspec": {
   "display_name": "myenv",
   "language": "python",
   "name": "python3"
  },
  "language_info": {
   "codemirror_mode": {
    "name": "ipython",
    "version": 3
   },
   "file_extension": ".py",
   "mimetype": "text/x-python",
   "name": "python",
   "nbconvert_exporter": "python",
   "pygments_lexer": "ipython3",
   "version": "3.8.20"
  }
 },
 "nbformat": 4,
 "nbformat_minor": 4
}
